{
 "cells": [
  {
   "cell_type": "code",
   "execution_count": 3,
   "id": "aa752a40-6c8c-4ade-b876-cdb9cee313fa",
   "metadata": {},
   "outputs": [],
   "source": [
    "import json\n",
    "with open('../artifacts/kaggle.json','r') as file:\n",
    "    data = json.load(file)"
   ]
  },
  {
   "cell_type": "code",
   "execution_count": 4,
   "id": "b559957f-0917-476e-a104-dd50987b4b8b",
   "metadata": {},
   "outputs": [
    {
     "data": {
      "text/plain": [
       "{'username': 'wasanapelawaththa', 'key': '6f0e8381a1d1729b3d6d1225dc190431'}"
      ]
     },
     "execution_count": 4,
     "metadata": {},
     "output_type": "execute_result"
    }
   ],
   "source": [
    "data"
   ]
  },
  {
   "cell_type": "code",
   "execution_count": 5,
   "id": "409fd9fa-ab4f-4fdc-b5c2-26200eb82987",
   "metadata": {},
   "outputs": [
    {
     "name": "stdout",
     "output_type": "stream",
     "text": [
      "Collecting kaggle\n",
      "  Downloading kaggle-1.7.4.5-py3-none-any.whl.metadata (16 kB)\n",
      "Requirement already satisfied: bleach in c:\\users\\asus\\anaconda3\\envs\\flaskenv\\lib\\site-packages (from kaggle) (6.2.0)\n",
      "Requirement already satisfied: certifi>=14.05.14 in c:\\users\\asus\\anaconda3\\envs\\flaskenv\\lib\\site-packages (from kaggle) (2025.4.26)\n",
      "Requirement already satisfied: charset-normalizer in c:\\users\\asus\\anaconda3\\envs\\flaskenv\\lib\\site-packages (from kaggle) (3.4.2)\n",
      "Requirement already satisfied: idna in c:\\users\\asus\\anaconda3\\envs\\flaskenv\\lib\\site-packages (from kaggle) (3.10)\n",
      "Collecting protobuf (from kaggle)\n",
      "  Downloading protobuf-6.30.2-cp310-abi3-win_amd64.whl.metadata (593 bytes)\n",
      "Requirement already satisfied: python-dateutil>=2.5.3 in c:\\users\\asus\\anaconda3\\envs\\flaskenv\\lib\\site-packages (from kaggle) (2.9.0.post0)\n",
      "Collecting python-slugify (from kaggle)\n",
      "  Downloading python_slugify-8.0.4-py2.py3-none-any.whl.metadata (8.5 kB)\n",
      "Requirement already satisfied: requests in c:\\users\\asus\\anaconda3\\envs\\flaskenv\\lib\\site-packages (from kaggle) (2.32.3)\n",
      "Requirement already satisfied: setuptools>=21.0.0 in c:\\users\\asus\\anaconda3\\envs\\flaskenv\\lib\\site-packages (from kaggle) (75.8.0)\n",
      "Requirement already satisfied: six>=1.10 in c:\\users\\asus\\anaconda3\\envs\\flaskenv\\lib\\site-packages (from kaggle) (1.17.0)\n",
      "Collecting text-unidecode (from kaggle)\n",
      "  Downloading text_unidecode-1.3-py2.py3-none-any.whl.metadata (2.4 kB)\n",
      "Collecting tqdm (from kaggle)\n",
      "  Using cached tqdm-4.67.1-py3-none-any.whl.metadata (57 kB)\n",
      "Requirement already satisfied: urllib3>=1.15.1 in c:\\users\\asus\\anaconda3\\envs\\flaskenv\\lib\\site-packages (from kaggle) (2.4.0)\n",
      "Requirement already satisfied: webencodings in c:\\users\\asus\\anaconda3\\envs\\flaskenv\\lib\\site-packages (from kaggle) (0.5.1)\n",
      "Requirement already satisfied: colorama in c:\\users\\asus\\anaconda3\\envs\\flaskenv\\lib\\site-packages (from tqdm->kaggle) (0.4.6)\n",
      "Downloading kaggle-1.7.4.5-py3-none-any.whl (181 kB)\n",
      "Downloading protobuf-6.30.2-cp310-abi3-win_amd64.whl (431 kB)\n",
      "Downloading python_slugify-8.0.4-py2.py3-none-any.whl (10 kB)\n",
      "Downloading text_unidecode-1.3-py2.py3-none-any.whl (78 kB)\n",
      "Downloading tqdm-4.67.1-py3-none-any.whl (78 kB)\n",
      "Installing collected packages: text-unidecode, tqdm, python-slugify, protobuf, kaggle\n",
      "Successfully installed kaggle-1.7.4.5 protobuf-6.30.2 python-slugify-8.0.4 text-unidecode-1.3 tqdm-4.67.1\n"
     ]
    }
   ],
   "source": [
    "!pip install kaggle"
   ]
  },
  {
   "cell_type": "code",
   "execution_count": 6,
   "id": "0b3653fe-ba70-415a-8b5c-0a97c48d46b8",
   "metadata": {},
   "outputs": [],
   "source": [
    "import os\n",
    "os.environ['KAGGLE_USERNAME'] = data['username']\n",
    "os.environ['KAGGLE_KEY'] = data['key']"
   ]
  },
  {
   "cell_type": "code",
   "execution_count": 7,
   "id": "4ef33478-01d5-45cf-ae63-8c3ee27093f7",
   "metadata": {},
   "outputs": [],
   "source": [
    "from kaggle.api.kaggle_api_extended import KaggleApi\n",
    "api = KaggleApi()\n",
    "api.authenticate()"
   ]
  },
  {
   "cell_type": "code",
   "execution_count": 9,
   "id": "5dc036af-fdf0-440d-904d-1ee1c1d4f6ba",
   "metadata": {},
   "outputs": [
    {
     "name": "stdout",
     "output_type": "stream",
     "text": [
      "Dataset URL: https://www.kaggle.com/datasets/dineshpiyasamara/sentiment-analysis-dataset\n"
     ]
    }
   ],
   "source": [
    "api.dataset_download_files('dineshpiyasamara/sentiment-analysis-dataset',path = '../artifacts')"
   ]
  },
  {
   "cell_type": "code",
   "execution_count": 10,
   "id": "1fc6c5cb-5944-45a8-95e4-b008e2df1e86",
   "metadata": {},
   "outputs": [],
   "source": [
    "import zipfile\n",
    "with zipfile.ZipFile('../artifacts/sentiment-analysis-dataset.zip','r') as zip_ref:\n",
    "    zip_ref.extractall('../artifacts')"
   ]
  },
  {
   "cell_type": "code",
   "execution_count": null,
   "id": "520eb2bf-c19f-4875-904c-6079ac3ad0c7",
   "metadata": {},
   "outputs": [],
   "source": []
  }
 ],
 "metadata": {
  "kernelspec": {
   "display_name": "Python 3 (ipykernel)",
   "language": "python",
   "name": "python3"
  },
  "language_info": {
   "codemirror_mode": {
    "name": "ipython",
    "version": 3
   },
   "file_extension": ".py",
   "mimetype": "text/x-python",
   "name": "python",
   "nbconvert_exporter": "python",
   "pygments_lexer": "ipython3",
   "version": "3.11.11"
  }
 },
 "nbformat": 4,
 "nbformat_minor": 5
}
